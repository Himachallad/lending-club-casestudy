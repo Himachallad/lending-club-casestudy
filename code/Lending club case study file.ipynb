{
 "cells": [
  {
   "cell_type": "markdown",
   "metadata": {},
   "source": [
    "## Lending club case study\n",
    "\n",
    "### Data description\n",
    "**Loan data**\n",
    "It contains the complete loan data for all loans issued through the time period 2007 to 2011.\n",
    "\n",
    "**Data dictionary**\n",
    "It describes the meaning of these variables provided in loan data.\n",
    "\n",
    "### Business problem\n",
    "The data given above contains information about past loan applicants and whether they ‘defaulted’ or not. The aim is to identify patterns which indicate if a person is likely to default, which may be used for taking actions such as denying the loan, reducing the amount of loan, lending (to risky applicants) at a higher interest rate, etc.\n",
    "\n",
    "### Goals\n",
    "We will approach our analysis w.r.to below common goals:\n",
    "\n",
    "#### Data Dictionary Analysis\n",
    "   - Data size\n",
    "   - Remove null values\n",
    "   \n",
    "#### Loan data analysis\n",
    "\n",
    "**1. Know Your Data**\n",
    "   - Data size\n",
    "   - Columns and thier data types\n",
    "   - Check data spread\n",
    "   - Numeric vs Categorical Columns   \n",
    "\n",
    "**2. Data Quality & Fix**\n",
    "   - Check null values\n",
    "   - delete irrelevant features\n",
    "   - impute null values\n",
    "   - check duplicates\n",
    "\n",
    "**3. Data Content Analysis**\n",
    "   - Univariate Analysis\n",
    "   - Bivariate Analysis\n",
    "   - Correlation b/w features\n",
    "\n",
    "**4. Derived Features/Metrics**\n",
    "\n",
    "**5. Conclusion**\n",
    "\n"
   ]
  },
  {
   "cell_type": "code",
   "execution_count": 118,
   "metadata": {},
   "outputs": [],
   "source": [
    "import pandas as pd"
   ]
  },
  {
   "cell_type": "code",
   "execution_count": 119,
   "metadata": {},
   "outputs": [
    {
     "name": "stderr",
     "output_type": "stream",
     "text": [
      "c:\\users\\nikhi\\appdata\\local\\programs\\python\\python38-32\\lib\\site-packages\\IPython\\core\\interactiveshell.py:3062: DtypeWarning: Columns (47) have mixed types.Specify dtype option on import or set low_memory=False.\n",
      "  has_raised = await self.run_ast_nodes(code_ast.body, cell_name,\n"
     ]
    }
   ],
   "source": [
    "# Load the data dictionary and loan data into pandas\n",
    "data_dictionary = pd.read_excel('Data_Dictionary.xlsx')\n",
    "loan_data = pd.read_csv('loan.csv')"
   ]
  },
  {
   "cell_type": "markdown",
   "metadata": {},
   "source": [
    "###  Data Dictionary Analysis\n",
    "   - Data size\n",
    "   - Remove null values"
   ]
  },
  {
   "cell_type": "code",
   "execution_count": 120,
   "metadata": {},
   "outputs": [
    {
     "data": {
      "text/plain": [
       "(117, 2)"
      ]
     },
     "execution_count": 120,
     "metadata": {},
     "output_type": "execute_result"
    }
   ],
   "source": [
    "data_dictionary.shape"
   ]
  },
  {
   "cell_type": "code",
   "execution_count": 121,
   "metadata": {},
   "outputs": [
    {
     "name": "stdout",
     "output_type": "stream",
     "text": [
      "<class 'pandas.core.frame.DataFrame'>\n",
      "RangeIndex: 117 entries, 0 to 116\n",
      "Data columns (total 2 columns):\n",
      " #   Column       Non-Null Count  Dtype \n",
      "---  ------       --------------  ----- \n",
      " 0   LoanStatNew  115 non-null    object\n",
      " 1   Description  116 non-null    object\n",
      "dtypes: object(2)\n",
      "memory usage: 1000.0+ bytes\n"
     ]
    }
   ],
   "source": [
    "data_dictionary.info()"
   ]
  },
  {
   "cell_type": "code",
   "execution_count": 122,
   "metadata": {},
   "outputs": [
    {
     "data": {
      "text/html": [
       "<div>\n",
       "<style scoped>\n",
       "    .dataframe tbody tr th:only-of-type {\n",
       "        vertical-align: middle;\n",
       "    }\n",
       "\n",
       "    .dataframe tbody tr th {\n",
       "        vertical-align: top;\n",
       "    }\n",
       "\n",
       "    .dataframe thead th {\n",
       "        text-align: right;\n",
       "    }\n",
       "</style>\n",
       "<table border=\"1\" class=\"dataframe\">\n",
       "  <thead>\n",
       "    <tr style=\"text-align: right;\">\n",
       "      <th></th>\n",
       "      <th>LoanStatNew</th>\n",
       "      <th>Description</th>\n",
       "    </tr>\n",
       "  </thead>\n",
       "  <tbody>\n",
       "    <tr>\n",
       "      <th>0</th>\n",
       "      <td>acc_now_delinq</td>\n",
       "      <td>The number of accounts on which the borrower i...</td>\n",
       "    </tr>\n",
       "    <tr>\n",
       "      <th>1</th>\n",
       "      <td>acc_open_past_24mths</td>\n",
       "      <td>Number of trades opened in past 24 months.</td>\n",
       "    </tr>\n",
       "    <tr>\n",
       "      <th>2</th>\n",
       "      <td>addr_state</td>\n",
       "      <td>The state provided by the borrower in the loan...</td>\n",
       "    </tr>\n",
       "    <tr>\n",
       "      <th>3</th>\n",
       "      <td>all_util</td>\n",
       "      <td>Balance to credit limit on all trades</td>\n",
       "    </tr>\n",
       "    <tr>\n",
       "      <th>4</th>\n",
       "      <td>annual_inc</td>\n",
       "      <td>The self-reported annual income provided by th...</td>\n",
       "    </tr>\n",
       "    <tr>\n",
       "      <th>112</th>\n",
       "      <td>verification_status</td>\n",
       "      <td>Indicates if income was verified by LC, not ve...</td>\n",
       "    </tr>\n",
       "    <tr>\n",
       "      <th>113</th>\n",
       "      <td>verified_status_joint</td>\n",
       "      <td>Indicates if the co-borrowers' joint income wa...</td>\n",
       "    </tr>\n",
       "    <tr>\n",
       "      <th>114</th>\n",
       "      <td>zip_code</td>\n",
       "      <td>The first 3 numbers of the zip code provided b...</td>\n",
       "    </tr>\n",
       "    <tr>\n",
       "      <th>115</th>\n",
       "      <td>NaN</td>\n",
       "      <td>NaN</td>\n",
       "    </tr>\n",
       "    <tr>\n",
       "      <th>116</th>\n",
       "      <td>NaN</td>\n",
       "      <td>* Employer Title replaces Employer Name for al...</td>\n",
       "    </tr>\n",
       "  </tbody>\n",
       "</table>\n",
       "</div>"
      ],
      "text/plain": [
       "               LoanStatNew                                        Description\n",
       "0           acc_now_delinq  The number of accounts on which the borrower i...\n",
       "1     acc_open_past_24mths         Number of trades opened in past 24 months.\n",
       "2               addr_state  The state provided by the borrower in the loan...\n",
       "3                 all_util              Balance to credit limit on all trades\n",
       "4               annual_inc  The self-reported annual income provided by th...\n",
       "112    verification_status  Indicates if income was verified by LC, not ve...\n",
       "113  verified_status_joint  Indicates if the co-borrowers' joint income wa...\n",
       "114               zip_code  The first 3 numbers of the zip code provided b...\n",
       "115                    NaN                                                NaN\n",
       "116                    NaN  * Employer Title replaces Employer Name for al..."
      ]
     },
     "execution_count": 122,
     "metadata": {},
     "output_type": "execute_result"
    }
   ],
   "source": [
    "# We see a few NaN's in the end.\n",
    "data_dictionary.head().append(data_dictionary.tail())"
   ]
  },
  {
   "cell_type": "code",
   "execution_count": 123,
   "metadata": {},
   "outputs": [],
   "source": [
    "# Cleaning up null values, as there are only 3 nulls and they are not used.\n",
    "data_dictionary.dropna(inplace=True)"
   ]
  },
  {
   "cell_type": "code",
   "execution_count": 124,
   "metadata": {},
   "outputs": [
    {
     "data": {
      "text/plain": [
       "(115, 2)"
      ]
     },
     "execution_count": 124,
     "metadata": {},
     "output_type": "execute_result"
    }
   ],
   "source": [
    "data_dictionary.shape"
   ]
  },
  {
   "cell_type": "markdown",
   "metadata": {},
   "source": [
    "#### Conclusion of Data dictionary analysis\n",
    "We noticed that there are only 3 nulls. Apart from that data looks clean. We removed that as part of initial analysis.\n",
    "Now, we have a clean data dictionary, ready for use."
   ]
  },
  {
   "cell_type": "markdown",
   "metadata": {},
   "source": [
    "## Loan data analysis"
   ]
  },
  {
   "cell_type": "markdown",
   "metadata": {},
   "source": [
    "### 1. Know You Data"
   ]
  },
  {
   "cell_type": "code",
   "execution_count": 125,
   "metadata": {},
   "outputs": [
    {
     "data": {
      "text/plain": [
       "(39717, 111)"
      ]
     },
     "execution_count": 125,
     "metadata": {},
     "output_type": "execute_result"
    }
   ],
   "source": [
    "loan_data.shape"
   ]
  },
  {
   "cell_type": "code",
   "execution_count": 126,
   "metadata": {},
   "outputs": [
    {
     "name": "stdout",
     "output_type": "stream",
     "text": [
      "<class 'pandas.core.frame.DataFrame'>\n",
      "RangeIndex: 39717 entries, 0 to 39716\n",
      "Data columns (total 111 columns):\n",
      " #   Column                          Non-Null Count  Dtype  \n",
      "---  ------                          --------------  -----  \n",
      " 0   id                              39717 non-null  int64  \n",
      " 1   member_id                       39717 non-null  int64  \n",
      " 2   loan_amnt                       39717 non-null  int64  \n",
      " 3   funded_amnt                     39717 non-null  int64  \n",
      " 4   funded_amnt_inv                 39717 non-null  float64\n",
      " 5   term                            39717 non-null  object \n",
      " 6   int_rate                        39717 non-null  object \n",
      " 7   installment                     39717 non-null  float64\n",
      " 8   grade                           39717 non-null  object \n",
      " 9   sub_grade                       39717 non-null  object \n",
      " 10  emp_title                       37258 non-null  object \n",
      " 11  emp_length                      38642 non-null  object \n",
      " 12  home_ownership                  39717 non-null  object \n",
      " 13  annual_inc                      39717 non-null  float64\n",
      " 14  verification_status             39717 non-null  object \n",
      " 15  issue_d                         39717 non-null  object \n",
      " 16  loan_status                     39717 non-null  object \n",
      " 17  pymnt_plan                      39717 non-null  object \n",
      " 18  url                             39717 non-null  object \n",
      " 19  desc                            26777 non-null  object \n",
      " 20  purpose                         39717 non-null  object \n",
      " 21  title                           39706 non-null  object \n",
      " 22  zip_code                        39717 non-null  object \n",
      " 23  addr_state                      39717 non-null  object \n",
      " 24  dti                             39717 non-null  float64\n",
      " 25  delinq_2yrs                     39717 non-null  int64  \n",
      " 26  earliest_cr_line                39717 non-null  object \n",
      " 27  inq_last_6mths                  39717 non-null  int64  \n",
      " 28  mths_since_last_delinq          14035 non-null  float64\n",
      " 29  mths_since_last_record          2786 non-null   float64\n",
      " 30  open_acc                        39717 non-null  int64  \n",
      " 31  pub_rec                         39717 non-null  int64  \n",
      " 32  revol_bal                       39717 non-null  int64  \n",
      " 33  revol_util                      39667 non-null  object \n",
      " 34  total_acc                       39717 non-null  int64  \n",
      " 35  initial_list_status             39717 non-null  object \n",
      " 36  out_prncp                       39717 non-null  float64\n",
      " 37  out_prncp_inv                   39717 non-null  float64\n",
      " 38  total_pymnt                     39717 non-null  float64\n",
      " 39  total_pymnt_inv                 39717 non-null  float64\n",
      " 40  total_rec_prncp                 39717 non-null  float64\n",
      " 41  total_rec_int                   39717 non-null  float64\n",
      " 42  total_rec_late_fee              39717 non-null  float64\n",
      " 43  recoveries                      39717 non-null  float64\n",
      " 44  collection_recovery_fee         39717 non-null  float64\n",
      " 45  last_pymnt_d                    39646 non-null  object \n",
      " 46  last_pymnt_amnt                 39717 non-null  float64\n",
      " 47  next_pymnt_d                    1140 non-null   object \n",
      " 48  last_credit_pull_d              39715 non-null  object \n",
      " 49  collections_12_mths_ex_med      39661 non-null  float64\n",
      " 50  mths_since_last_major_derog     0 non-null      float64\n",
      " 51  policy_code                     39717 non-null  int64  \n",
      " 52  application_type                39717 non-null  object \n",
      " 53  annual_inc_joint                0 non-null      float64\n",
      " 54  dti_joint                       0 non-null      float64\n",
      " 55  verification_status_joint       0 non-null      float64\n",
      " 56  acc_now_delinq                  39717 non-null  int64  \n",
      " 57  tot_coll_amt                    0 non-null      float64\n",
      " 58  tot_cur_bal                     0 non-null      float64\n",
      " 59  open_acc_6m                     0 non-null      float64\n",
      " 60  open_il_6m                      0 non-null      float64\n",
      " 61  open_il_12m                     0 non-null      float64\n",
      " 62  open_il_24m                     0 non-null      float64\n",
      " 63  mths_since_rcnt_il              0 non-null      float64\n",
      " 64  total_bal_il                    0 non-null      float64\n",
      " 65  il_util                         0 non-null      float64\n",
      " 66  open_rv_12m                     0 non-null      float64\n",
      " 67  open_rv_24m                     0 non-null      float64\n",
      " 68  max_bal_bc                      0 non-null      float64\n",
      " 69  all_util                        0 non-null      float64\n",
      " 70  total_rev_hi_lim                0 non-null      float64\n",
      " 71  inq_fi                          0 non-null      float64\n",
      " 72  total_cu_tl                     0 non-null      float64\n",
      " 73  inq_last_12m                    0 non-null      float64\n",
      " 74  acc_open_past_24mths            0 non-null      float64\n",
      " 75  avg_cur_bal                     0 non-null      float64\n",
      " 76  bc_open_to_buy                  0 non-null      float64\n",
      " 77  bc_util                         0 non-null      float64\n",
      " 78  chargeoff_within_12_mths        39661 non-null  float64\n",
      " 79  delinq_amnt                     39717 non-null  int64  \n",
      " 80  mo_sin_old_il_acct              0 non-null      float64\n",
      " 81  mo_sin_old_rev_tl_op            0 non-null      float64\n",
      " 82  mo_sin_rcnt_rev_tl_op           0 non-null      float64\n",
      " 83  mo_sin_rcnt_tl                  0 non-null      float64\n",
      " 84  mort_acc                        0 non-null      float64\n",
      " 85  mths_since_recent_bc            0 non-null      float64\n",
      " 86  mths_since_recent_bc_dlq        0 non-null      float64\n",
      " 87  mths_since_recent_inq           0 non-null      float64\n",
      " 88  mths_since_recent_revol_delinq  0 non-null      float64\n",
      " 89  num_accts_ever_120_pd           0 non-null      float64\n",
      " 90  num_actv_bc_tl                  0 non-null      float64\n",
      " 91  num_actv_rev_tl                 0 non-null      float64\n",
      " 92  num_bc_sats                     0 non-null      float64\n",
      " 93  num_bc_tl                       0 non-null      float64\n",
      " 94  num_il_tl                       0 non-null      float64\n",
      " 95  num_op_rev_tl                   0 non-null      float64\n",
      " 96  num_rev_accts                   0 non-null      float64\n",
      " 97  num_rev_tl_bal_gt_0             0 non-null      float64\n",
      " 98  num_sats                        0 non-null      float64\n",
      " 99  num_tl_120dpd_2m                0 non-null      float64\n",
      " 100 num_tl_30dpd                    0 non-null      float64\n",
      " 101 num_tl_90g_dpd_24m              0 non-null      float64\n",
      " 102 num_tl_op_past_12m              0 non-null      float64\n",
      " 103 pct_tl_nvr_dlq                  0 non-null      float64\n",
      " 104 percent_bc_gt_75                0 non-null      float64\n",
      " 105 pub_rec_bankruptcies            39020 non-null  float64\n",
      " 106 tax_liens                       39678 non-null  float64\n",
      " 107 tot_hi_cred_lim                 0 non-null      float64\n",
      " 108 total_bal_ex_mort               0 non-null      float64\n",
      " 109 total_bc_limit                  0 non-null      float64\n",
      " 110 total_il_high_credit_limit      0 non-null      float64\n",
      "dtypes: float64(74), int64(13), object(24)\n",
      "memory usage: 30.0+ MB\n"
     ]
    }
   ],
   "source": [
    "loan_data.info(max_cols=111)"
   ]
  },
  {
   "cell_type": "code",
   "execution_count": 127,
   "metadata": {},
   "outputs": [
    {
     "name": "stdout",
     "output_type": "stream",
     "text": [
      "48.65 percent columns have 0 non-null values\n",
      "12.61 percent columns have some non-null values (excluding complete non-nulls)\n"
     ]
    }
   ],
   "source": [
    "all_null_column_percentage = 100 * (loan_data.isna().all(axis=0).sum() / loan_data.columns.size)\n",
    "print('%.2f' % all_null_column_percentage, 'percent columns have 0 non-null values')\n",
    "\n",
    "some_null_column_percentage = 100 * ((loan_data.isna().any(axis=0).sum() / loan_data.columns.size)) - all_null_column_percentage\n",
    "print('%.2f' % some_null_column_percentage, 'percent columns have some non-null values (excluding complete non-nulls)')"
   ]
  },
  {
   "cell_type": "markdown",
   "metadata": {},
   "source": [
    "Notice there are many columns with 0 non-null values, and a few with some non-nulls"
   ]
  },
  {
   "cell_type": "code",
   "execution_count": 128,
   "metadata": {},
   "outputs": [
    {
     "data": {
      "text/plain": [
       "float64    74\n",
       "object     24\n",
       "int64      13\n",
       "dtype: int64"
      ]
     },
     "execution_count": 128,
     "metadata": {},
     "output_type": "execute_result"
    }
   ],
   "source": [
    "# Check Categorical and Numerical variables\n",
    "loan_data.dtypes.value_counts()"
   ]
  },
  {
   "cell_type": "code",
   "execution_count": 129,
   "metadata": {},
   "outputs": [
    {
     "data": {
      "text/plain": [
       "['term',\n",
       " 'int_rate',\n",
       " 'grade',\n",
       " 'sub_grade',\n",
       " 'emp_title',\n",
       " 'emp_length',\n",
       " 'home_ownership',\n",
       " 'verification_status',\n",
       " 'issue_d',\n",
       " 'loan_status',\n",
       " 'pymnt_plan',\n",
       " 'url',\n",
       " 'desc',\n",
       " 'purpose',\n",
       " 'title',\n",
       " 'zip_code',\n",
       " 'addr_state',\n",
       " 'earliest_cr_line',\n",
       " 'revol_util',\n",
       " 'initial_list_status',\n",
       " 'last_pymnt_d',\n",
       " 'next_pymnt_d',\n",
       " 'last_credit_pull_d',\n",
       " 'application_type']"
      ]
     },
     "execution_count": 129,
     "metadata": {},
     "output_type": "execute_result"
    }
   ],
   "source": [
    "# See all the columns that contain categorical data\n",
    "cat_columns = list(loan_data.select_dtypes(include=\"object\"))\n",
    "cat_columns"
   ]
  },
  {
   "cell_type": "markdown",
   "metadata": {},
   "source": [
    "Certain columns like `int_rate` and `emp_length` can fall into numerical variables"
   ]
  },
  {
   "cell_type": "markdown",
   "metadata": {},
   "source": [
    "We can check the unique values for each columns. This will be helpful to understand if we have **univariate data**, or **binary data**, any **ordinal data**, or any **continuous data**. Based on this, we can later think of binning these continuous values."
   ]
  },
  {
   "cell_type": "code",
   "execution_count": 130,
   "metadata": {},
   "outputs": [
    {
     "data": {
      "text/plain": [
       "policy_code                       1\n",
       "collections_12_mths_ex_med        1\n",
       "acc_now_delinq                    1\n",
       "application_type                  1\n",
       "tax_liens                         1\n",
       "delinq_amnt                       1\n",
       "chargeoff_within_12_mths          1\n",
       "pymnt_plan                        1\n",
       "initial_list_status               1\n",
       "next_pymnt_d                      2\n",
       "term                              2\n",
       "loan_status                       3\n",
       "verification_status               3\n",
       "pub_rec_bankruptcies              3\n",
       "home_ownership                    5\n",
       "pub_rec                           5\n",
       "grade                             7\n",
       "inq_last_6mths                    9\n",
       "delinq_2yrs                      11\n",
       "emp_length                       11\n",
       "purpose                          14\n",
       "sub_grade                        35\n",
       "open_acc                         40\n",
       "addr_state                       50\n",
       "issue_d                          55\n",
       "total_acc                        82\n",
       "mths_since_last_delinq           95\n",
       "last_pymnt_d                    101\n",
       "last_credit_pull_d              106\n",
       "mths_since_last_record          111\n",
       "int_rate                        371\n",
       "earliest_cr_line                526\n",
       "zip_code                        823\n",
       "loan_amnt                       885\n",
       "funded_amnt                    1041\n",
       "revol_util                     1089\n",
       "out_prncp                      1137\n",
       "out_prncp_inv                  1138\n",
       "total_rec_late_fee             1356\n",
       "collection_recovery_fee        2616\n",
       "dti                            2868\n",
       "recoveries                     4040\n",
       "annual_inc                     5318\n",
       "total_rec_prncp                7976\n",
       "funded_amnt_inv                8205\n",
       "installment                   15383\n",
       "title                         19615\n",
       "revol_bal                     21711\n",
       "desc                          26527\n",
       "emp_title                     28820\n",
       "last_pymnt_amnt               34930\n",
       "total_rec_int                 35148\n",
       "total_pymnt_inv               37518\n",
       "total_pymnt                   37850\n",
       "url                           39717\n",
       "member_id                     39717\n",
       "id                            39717\n",
       "dtype: int64"
      ]
     },
     "execution_count": 130,
     "metadata": {},
     "output_type": "execute_result"
    }
   ],
   "source": [
    "# For each numerical feature compute number of unique entries\n",
    "unique_values = loan_data.nunique().sort_values()\n",
    "unique_values[unique_values > 0]"
   ]
  },
  {
   "cell_type": "code",
   "execution_count": 131,
   "metadata": {},
   "outputs": [
    {
     "data": {
      "image/png": "[encoded data removed]",
      "text/plain": [
       "<Figure size 1080x432 with 1 Axes>"
      ]
     },
     "metadata": {
      "needs_background": "light"
     },
     "output_type": "display_data"
    }
   ],
   "source": [
    "# Plot information with y-axis in log-scale\n",
    "unique_values.plot.bar(logy=True, figsize=(15, 6), title=\"Unique Values per Columns\", color = \"green\");"
   ]
  },
  {
   "cell_type": "code",
   "execution_count": 132,
   "metadata": {},
   "outputs": [
    {
     "data": {
      "text/html": [
       "<div>\n",
       "<style scoped>\n",
       "    .dataframe tbody tr th:only-of-type {\n",
       "        vertical-align: middle;\n",
       "    }\n",
       "\n",
       "    .dataframe tbody tr th {\n",
       "        vertical-align: top;\n",
       "    }\n",
       "\n",
       "    .dataframe thead th {\n",
       "        text-align: right;\n",
       "    }\n",
       "</style>\n",
       "<table border=\"1\" class=\"dataframe\">\n",
       "  <thead>\n",
       "    <tr style=\"text-align: right;\">\n",
       "      <th></th>\n",
       "      <th>id</th>\n",
       "      <th>member_id</th>\n",
       "      <th>loan_amnt</th>\n",
       "      <th>funded_amnt</th>\n",
       "      <th>funded_amnt_inv</th>\n",
       "      <th>installment</th>\n",
       "      <th>annual_inc</th>\n",
       "      <th>dti</th>\n",
       "      <th>delinq_2yrs</th>\n",
       "      <th>inq_last_6mths</th>\n",
       "      <th>...</th>\n",
       "      <th>num_tl_90g_dpd_24m</th>\n",
       "      <th>num_tl_op_past_12m</th>\n",
       "      <th>pct_tl_nvr_dlq</th>\n",
       "      <th>percent_bc_gt_75</th>\n",
       "      <th>pub_rec_bankruptcies</th>\n",
       "      <th>tax_liens</th>\n",
       "      <th>tot_hi_cred_lim</th>\n",
       "      <th>total_bal_ex_mort</th>\n",
       "      <th>total_bc_limit</th>\n",
       "      <th>total_il_high_credit_limit</th>\n",
       "    </tr>\n",
       "  </thead>\n",
       "  <tbody>\n",
       "    <tr>\n",
       "      <th>count</th>\n",
       "      <td>3.971700e+04</td>\n",
       "      <td>3.971700e+04</td>\n",
       "      <td>39717.000000</td>\n",
       "      <td>39717.000000</td>\n",
       "      <td>39717.000000</td>\n",
       "      <td>39717.000000</td>\n",
       "      <td>3.971700e+04</td>\n",
       "      <td>39717.000000</td>\n",
       "      <td>39717.000000</td>\n",
       "      <td>39717.000000</td>\n",
       "      <td>...</td>\n",
       "      <td>0.0</td>\n",
       "      <td>0.0</td>\n",
       "      <td>0.0</td>\n",
       "      <td>0.0</td>\n",
       "      <td>39020.000000</td>\n",
       "      <td>39678.0</td>\n",
       "      <td>0.0</td>\n",
       "      <td>0.0</td>\n",
       "      <td>0.0</td>\n",
       "      <td>0.0</td>\n",
       "    </tr>\n",
       "    <tr>\n",
       "      <th>mean</th>\n",
       "      <td>6.831319e+05</td>\n",
       "      <td>8.504636e+05</td>\n",
       "      <td>11219.443815</td>\n",
       "      <td>10947.713196</td>\n",
       "      <td>10397.448868</td>\n",
       "      <td>324.561922</td>\n",
       "      <td>6.896893e+04</td>\n",
       "      <td>13.315130</td>\n",
       "      <td>0.146512</td>\n",
       "      <td>0.869200</td>\n",
       "      <td>...</td>\n",
       "      <td>NaN</td>\n",
       "      <td>NaN</td>\n",
       "      <td>NaN</td>\n",
       "      <td>NaN</td>\n",
       "      <td>0.043260</td>\n",
       "      <td>0.0</td>\n",
       "      <td>NaN</td>\n",
       "      <td>NaN</td>\n",
       "      <td>NaN</td>\n",
       "      <td>NaN</td>\n",
       "    </tr>\n",
       "    <tr>\n",
       "      <th>std</th>\n",
       "      <td>2.106941e+05</td>\n",
       "      <td>2.656783e+05</td>\n",
       "      <td>7456.670694</td>\n",
       "      <td>7187.238670</td>\n",
       "      <td>7128.450439</td>\n",
       "      <td>208.874874</td>\n",
       "      <td>6.379377e+04</td>\n",
       "      <td>6.678594</td>\n",
       "      <td>0.491812</td>\n",
       "      <td>1.070219</td>\n",
       "      <td>...</td>\n",
       "      <td>NaN</td>\n",
       "      <td>NaN</td>\n",
       "      <td>NaN</td>\n",
       "      <td>NaN</td>\n",
       "      <td>0.204324</td>\n",
       "      <td>0.0</td>\n",
       "      <td>NaN</td>\n",
       "      <td>NaN</td>\n",
       "      <td>NaN</td>\n",
       "      <td>NaN</td>\n",
       "    </tr>\n",
       "    <tr>\n",
       "      <th>min</th>\n",
       "      <td>5.473400e+04</td>\n",
       "      <td>7.069900e+04</td>\n",
       "      <td>500.000000</td>\n",
       "      <td>500.000000</td>\n",
       "      <td>0.000000</td>\n",
       "      <td>15.690000</td>\n",
       "      <td>4.000000e+03</td>\n",
       "      <td>0.000000</td>\n",
       "      <td>0.000000</td>\n",
       "      <td>0.000000</td>\n",
       "      <td>...</td>\n",
       "      <td>NaN</td>\n",
       "      <td>NaN</td>\n",
       "      <td>NaN</td>\n",
       "      <td>NaN</td>\n",
       "      <td>0.000000</td>\n",
       "      <td>0.0</td>\n",
       "      <td>NaN</td>\n",
       "      <td>NaN</td>\n",
       "      <td>NaN</td>\n",
       "      <td>NaN</td>\n",
       "    </tr>\n",
       "    <tr>\n",
       "      <th>25%</th>\n",
       "      <td>5.162210e+05</td>\n",
       "      <td>6.667800e+05</td>\n",
       "      <td>5500.000000</td>\n",
       "      <td>5400.000000</td>\n",
       "      <td>5000.000000</td>\n",
       "      <td>167.020000</td>\n",
       "      <td>4.040400e+04</td>\n",
       "      <td>8.170000</td>\n",
       "      <td>0.000000</td>\n",
       "      <td>0.000000</td>\n",
       "      <td>...</td>\n",
       "      <td>NaN</td>\n",
       "      <td>NaN</td>\n",
       "      <td>NaN</td>\n",
       "      <td>NaN</td>\n",
       "      <td>0.000000</td>\n",
       "      <td>0.0</td>\n",
       "      <td>NaN</td>\n",
       "      <td>NaN</td>\n",
       "      <td>NaN</td>\n",
       "      <td>NaN</td>\n",
       "    </tr>\n",
       "    <tr>\n",
       "      <th>50%</th>\n",
       "      <td>6.656650e+05</td>\n",
       "      <td>8.508120e+05</td>\n",
       "      <td>10000.000000</td>\n",
       "      <td>9600.000000</td>\n",
       "      <td>8975.000000</td>\n",
       "      <td>280.220000</td>\n",
       "      <td>5.900000e+04</td>\n",
       "      <td>13.400000</td>\n",
       "      <td>0.000000</td>\n",
       "      <td>1.000000</td>\n",
       "      <td>...</td>\n",
       "      <td>NaN</td>\n",
       "      <td>NaN</td>\n",
       "      <td>NaN</td>\n",
       "      <td>NaN</td>\n",
       "      <td>0.000000</td>\n",
       "      <td>0.0</td>\n",
       "      <td>NaN</td>\n",
       "      <td>NaN</td>\n",
       "      <td>NaN</td>\n",
       "      <td>NaN</td>\n",
       "    </tr>\n",
       "    <tr>\n",
       "      <th>75%</th>\n",
       "      <td>8.377550e+05</td>\n",
       "      <td>1.047339e+06</td>\n",
       "      <td>15000.000000</td>\n",
       "      <td>15000.000000</td>\n",
       "      <td>14400.000000</td>\n",
       "      <td>430.780000</td>\n",
       "      <td>8.230000e+04</td>\n",
       "      <td>18.600000</td>\n",
       "      <td>0.000000</td>\n",
       "      <td>1.000000</td>\n",
       "      <td>...</td>\n",
       "      <td>NaN</td>\n",
       "      <td>NaN</td>\n",
       "      <td>NaN</td>\n",
       "      <td>NaN</td>\n",
       "      <td>0.000000</td>\n",
       "      <td>0.0</td>\n",
       "      <td>NaN</td>\n",
       "      <td>NaN</td>\n",
       "      <td>NaN</td>\n",
       "      <td>NaN</td>\n",
       "    </tr>\n",
       "    <tr>\n",
       "      <th>max</th>\n",
       "      <td>1.077501e+06</td>\n",
       "      <td>1.314167e+06</td>\n",
       "      <td>35000.000000</td>\n",
       "      <td>35000.000000</td>\n",
       "      <td>35000.000000</td>\n",
       "      <td>1305.190000</td>\n",
       "      <td>6.000000e+06</td>\n",
       "      <td>29.990000</td>\n",
       "      <td>11.000000</td>\n",
       "      <td>8.000000</td>\n",
       "      <td>...</td>\n",
       "      <td>NaN</td>\n",
       "      <td>NaN</td>\n",
       "      <td>NaN</td>\n",
       "      <td>NaN</td>\n",
       "      <td>2.000000</td>\n",
       "      <td>0.0</td>\n",
       "      <td>NaN</td>\n",
       "      <td>NaN</td>\n",
       "      <td>NaN</td>\n",
       "      <td>NaN</td>\n",
       "    </tr>\n",
       "  </tbody>\n",
       "</table>\n",
       "<p>8 rows × 87 columns</p>\n",
       "</div>"
      ],
      "text/plain": [
       "                 id     member_id     loan_amnt   funded_amnt  \\\n",
       "count  3.971700e+04  3.971700e+04  39717.000000  39717.000000   \n",
       "mean   6.831319e+05  8.504636e+05  11219.443815  10947.713196   \n",
       "std    2.106941e+05  2.656783e+05   7456.670694   7187.238670   \n",
       "min    5.473400e+04  7.069900e+04    500.000000    500.000000   \n",
       "25%    5.162210e+05  6.667800e+05   5500.000000   5400.000000   \n",
       "50%    6.656650e+05  8.508120e+05  10000.000000   9600.000000   \n",
       "75%    8.377550e+05  1.047339e+06  15000.000000  15000.000000   \n",
       "max    1.077501e+06  1.314167e+06  35000.000000  35000.000000   \n",
       "\n",
       "       funded_amnt_inv   installment    annual_inc           dti  \\\n",
       "count     39717.000000  39717.000000  3.971700e+04  39717.000000   \n",
       "mean      10397.448868    324.561922  6.896893e+04     13.315130   \n",
       "std        7128.450439    208.874874  6.379377e+04      6.678594   \n",
       "min           0.000000     15.690000  4.000000e+03      0.000000   \n",
       "25%        5000.000000    167.020000  4.040400e+04      8.170000   \n",
       "50%        8975.000000    280.220000  5.900000e+04     13.400000   \n",
       "75%       14400.000000    430.780000  8.230000e+04     18.600000   \n",
       "max       35000.000000   1305.190000  6.000000e+06     29.990000   \n",
       "\n",
       "        delinq_2yrs  inq_last_6mths  ...  num_tl_90g_dpd_24m  \\\n",
       "count  39717.000000    39717.000000  ...                 0.0   \n",
       "mean       0.146512        0.869200  ...                 NaN   \n",
       "std        0.491812        1.070219  ...                 NaN   \n",
       "min        0.000000        0.000000  ...                 NaN   \n",
       "25%        0.000000        0.000000  ...                 NaN   \n",
       "50%        0.000000        1.000000  ...                 NaN   \n",
       "75%        0.000000        1.000000  ...                 NaN   \n",
       "max       11.000000        8.000000  ...                 NaN   \n",
       "\n",
       "       num_tl_op_past_12m  pct_tl_nvr_dlq  percent_bc_gt_75  \\\n",
       "count                 0.0             0.0               0.0   \n",
       "mean                  NaN             NaN               NaN   \n",
       "std                   NaN             NaN               NaN   \n",
       "min                   NaN             NaN               NaN   \n",
       "25%                   NaN             NaN               NaN   \n",
       "50%                   NaN             NaN               NaN   \n",
       "75%                   NaN             NaN               NaN   \n",
       "max                   NaN             NaN               NaN   \n",
       "\n",
       "       pub_rec_bankruptcies  tax_liens  tot_hi_cred_lim  total_bal_ex_mort  \\\n",
       "count          39020.000000    39678.0              0.0                0.0   \n",
       "mean               0.043260        0.0              NaN                NaN   \n",
       "std                0.204324        0.0              NaN                NaN   \n",
       "min                0.000000        0.0              NaN                NaN   \n",
       "25%                0.000000        0.0              NaN                NaN   \n",
       "50%                0.000000        0.0              NaN                NaN   \n",
       "75%                0.000000        0.0              NaN                NaN   \n",
       "max                2.000000        0.0              NaN                NaN   \n",
       "\n",
       "       total_bc_limit  total_il_high_credit_limit  \n",
       "count             0.0                         0.0  \n",
       "mean              NaN                         NaN  \n",
       "std               NaN                         NaN  \n",
       "min               NaN                         NaN  \n",
       "25%               NaN                         NaN  \n",
       "50%               NaN                         NaN  \n",
       "75%               NaN                         NaN  \n",
       "max               NaN                         NaN  \n",
       "\n",
       "[8 rows x 87 columns]"
      ]
     },
     "execution_count": 132,
     "metadata": {},
     "output_type": "execute_result"
    }
   ],
   "source": [
    "# Fix scientific calculation\n",
    "loan_data.describe()"
   ]
  },
  {
   "cell_type": "markdown",
   "metadata": {},
   "source": [
    "#### Conclusion of section 1. Know Your Data\n",
    "Now, we have a good understanding of our data. We know that out data size is (39717 X 111). Almost half of these columns also have only null values, few have some null values. We have 87 numerical features and 24 categorical features in our dataset. We have also seen their distributions and plotted their unique values. We noticed that few columns have a single value for entire data"
   ]
  },
  {
   "cell_type": "markdown",
   "metadata": {},
   "source": [
    "### 2. Data Quality & Fix\n",
    "   - Check null values\n",
    "   - Check duplicates\n",
    "   - Remove irrelevant features\n",
    "   - impute null values\n",
    "   - Outlier detection and removal"
   ]
  },
  {
   "cell_type": "markdown",
   "metadata": {},
   "source": [
    "#### 2.1 Check null values"
   ]
  },
  {
   "cell_type": "markdown",
   "metadata": {},
   "source": [
    "We know from previous step that half of the columns are null. Let's clean that up."
   ]
  },
  {
   "cell_type": "code",
   "execution_count": 133,
   "metadata": {},
   "outputs": [],
   "source": [
    "loan_data.dropna(axis=1, how='all', inplace=True)"
   ]
  },
  {
   "cell_type": "code",
   "execution_count": 134,
   "metadata": {},
   "outputs": [
    {
     "data": {
      "text/plain": [
       "(39717, 57)"
      ]
     },
     "execution_count": 134,
     "metadata": {},
     "output_type": "execute_result"
    }
   ],
   "source": [
    "# Shape of data has changes with less columns\n",
    "loan_data.shape"
   ]
  },
  {
   "cell_type": "markdown",
   "metadata": {},
   "source": [
    "#### 2.2 Check duplicates"
   ]
  },
  {
   "cell_type": "markdown",
   "metadata": {},
   "source": [
    "`id`, `member_id`, and `url` are the unique identifiers of the data-set. We can ignore them and check if we have any duplicate rows."
   ]
  },
  {
   "cell_type": "code",
   "execution_count": 135,
   "metadata": {},
   "outputs": [
    {
     "data": {
      "text/plain": [
       "0"
      ]
     },
     "execution_count": 135,
     "metadata": {},
     "output_type": "execute_result"
    }
   ],
   "source": [
    "    # We can't find any row duplicates\n",
    "    row_duplicates = loan_data.drop(labels=['id', 'member_id', 'url'], axis=1).duplicated().sum()\n",
    "    row_duplicates"
   ]
  },
  {
   "cell_type": "markdown",
   "metadata": {},
   "source": [
    "#### 2.3 Remove irrelevant features"
   ]
  },
  {
   "cell_type": "markdown",
   "metadata": {},
   "source": [
    "Let's begin with calculating the percentage of null values in each column"
   ]
  },
  {
   "cell_type": "code",
   "execution_count": 136,
   "metadata": {},
   "outputs": [],
   "source": [
    "# We could also have done loan_data.isna().sum() but that's very slow in comparision to this approach. Count is read from \n",
    "# metadata and is served way faster.\n",
    "# My jupyter kept dying if I used other method which looks cleaner, so shifted to the faster approach.\n",
    "\n",
    "null_counts = loan_data.shape[0] - loan_data.count()"
   ]
  },
  {
   "cell_type": "code",
   "execution_count": 137,
   "metadata": {},
   "outputs": [
    {
     "data": {
      "text/plain": [
       "emp_title                  6.191303\n",
       "desc                      32.580507\n",
       "mths_since_last_delinq    64.662487\n",
       "mths_since_last_record    92.985372\n",
       "next_pymnt_d              97.129693\n",
       "dtype: float64"
      ]
     },
     "execution_count": 137,
     "metadata": {},
     "output_type": "execute_result"
    }
   ],
   "source": [
    "# Check columns with greater than 3 percent nulls\n",
    "\n",
    "total_rows = loan_data.shape[0]\n",
    "null_count_percentage = 100 * null_counts / total_rows\n",
    "null_count_percentage[null_count_percentage > 3]"
   ]
  },
  {
   "cell_type": "code",
   "execution_count": 138,
   "metadata": {},
   "outputs": [
    {
     "name": "stdout",
     "output_type": "stream",
     "text": [
      "Index([' ', 'Debt Consolidation', 'Camping Membership', 'Personal Loan',\n",
      "       'personal loan', 'credit card debt consolidation',\n",
      "       'credit card consolidation', 'refinancing', 'consolidate debt',\n",
      "       'consolidate credit cards',\n",
      "       '  Borrower added on 12/06/11 > Debt consolidation<br>',\n",
      "       '  Borrower added on 09/21/11 > Debt consolidation<br/>',\n",
      "       'Motorcycle Loan',\n",
      "       'I will use the loan and pay off all of my outstanding credit card debts that are spread out. It would be great to just focus on paying back one lender with a lower interest rate and not have to worry about keeping track each CC individually.',\n",
      "       'This loan would be to consolidate my credit card debts, and have one payment at a reasonable interest rate.',\n",
      "       'Debt consolidation', 'debt consolidation', 'consolidation',\n",
      "       'Consolidate',\n",
      "       'I have 2nd mortgage on a rental property with balance of $109k.  I have cash flow of $85k and plan to pay off the 2nd mortgage using this loan to make up for rest of the balance.  You will see a 2nd mortgage debt on my credit  around $965.00 which will go away once this loan is approved as I will be paying it off.  The interest rate needs to be below 9% since I can use my credit card to borrow same money for 10%.'],\n",
      "      dtype='object')\n"
     ]
    }
   ],
   "source": [
    "# This feature is useful in further analysis, to determine why user took the loan\n",
    "with pd.option_context('display.max_colwidth', None):  # set local option to None\n",
    "    print(loan_data['desc'].value_counts().head(20).index)"
   ]
  },
  {
   "cell_type": "code",
   "execution_count": 139,
   "metadata": {},
   "outputs": [
    {
     "data": {
      "text/plain": [
       "US Army                            134\n",
       "Bank of America                    109\n",
       "IBM                                 66\n",
       "AT&T                                59\n",
       "Kaiser Permanente                   56\n",
       "                                  ... \n",
       "Online Trading Academy               1\n",
       "Frys Electronics                     1\n",
       "TNG                                  1\n",
       "American Seafoods International      1\n",
       "Jerry's Famous Deli                  1\n",
       "Name: emp_title, Length: 28820, dtype: int64"
      ]
     },
     "execution_count": 139,
     "metadata": {},
     "output_type": "execute_result"
    }
   ],
   "source": [
    "# This contains company information and looks important paramater in further analysis\n",
    "loan_data['emp_title'].value_counts()"
   ]
  },
  {
   "cell_type": "code",
   "execution_count": 140,
   "metadata": {},
   "outputs": [
    {
     "name": "stdout",
     "output_type": "stream",
     "text": [
      "50    The number of months since the borrower's last delinquency.\n",
      "Name: Description, dtype: object\n"
     ]
    }
   ],
   "source": [
    "# We can mark null values as Non-deliquent\n",
    "with pd.option_context('display.max_colwidth', None):\n",
    "    print(data_dictionary[data_dictionary.LoanStatNew == 'mths_since_last_delinq'].Description)"
   ]
  },
  {
   "cell_type": "code",
   "execution_count": 141,
   "metadata": {},
   "outputs": [
    {
     "name": "stdout",
     "output_type": "stream",
     "text": [
      "52    The number of months since the last public record.\n",
      "Name: Description, dtype: object\n"
     ]
    }
   ],
   "source": [
    "# We can compare the default with public record update\n",
    "with pd.option_context('display.max_colwidth', None):\n",
    "    print(data_dictionary[data_dictionary.LoanStatNew == 'mths_since_last_record'].Description)"
   ]
  },
  {
   "cell_type": "code",
   "execution_count": 142,
   "metadata": {},
   "outputs": [
    {
     "data": {
      "text/plain": [
       "0.0      670\n",
       "104.0     61\n",
       "89.0      60\n",
       "113.0     59\n",
       "111.0     57\n",
       "        ... \n",
       "14.0       1\n",
       "5.0        1\n",
       "19.0       1\n",
       "120.0      1\n",
       "6.0        1\n",
       "Name: mths_since_last_record, Length: 111, dtype: int64"
      ]
     },
     "execution_count": 142,
     "metadata": {},
     "output_type": "execute_result"
    }
   ],
   "source": [
    "loan_data['mths_since_last_record'].value_counts()"
   ]
  },
  {
   "cell_type": "code",
   "execution_count": 143,
   "metadata": {},
   "outputs": [
    {
     "name": "stdout",
     "output_type": "stream",
     "text": [
      "58    Next scheduled payment date\n",
      "Name: Description, dtype: object\n"
     ]
    }
   ],
   "source": [
    "# This column will be useful for testing our model in future, but not for the current objective. We are interested only\n",
    "# in defaulters and non-defaulters for this analysis.\n",
    "# We can remove this field. \n",
    "with pd.option_context('display.max_colwidth', None):\n",
    "    print(data_dictionary[data_dictionary.LoanStatNew == 'next_pymnt_d'].Description)\n"
   ]
  },
  {
   "cell_type": "code",
   "execution_count": 144,
   "metadata": {},
   "outputs": [],
   "source": [
    "loan_data.drop(labels='next_pymnt_d', axis=1, inplace=True)"
   ]
  },
  {
   "cell_type": "code",
   "execution_count": 145,
   "metadata": {},
   "outputs": [
    {
     "data": {
      "text/plain": [
       "(39717, 56)"
      ]
     },
     "execution_count": 145,
     "metadata": {},
     "output_type": "execute_result"
    }
   ],
   "source": [
    "loan_data.shape"
   ]
  },
  {
   "cell_type": "markdown",
   "metadata": {},
   "source": [
    "#### 2.4 Impute nulls"
   ]
  },
  {
   "cell_type": "code",
   "execution_count": 147,
   "metadata": {},
   "outputs": [
    {
     "data": {
      "text/plain": [
       "emp_title                      6.191303\n",
       "emp_length                     2.706650\n",
       "desc                          32.580507\n",
       "title                          0.027696\n",
       "mths_since_last_delinq        64.662487\n",
       "mths_since_last_record        92.985372\n",
       "revol_util                     0.125891\n",
       "last_pymnt_d                   0.178765\n",
       "next_pymnt_d                  97.129693\n",
       "last_credit_pull_d             0.005036\n",
       "collections_12_mths_ex_med     0.140998\n",
       "chargeoff_within_12_mths       0.140998\n",
       "pub_rec_bankruptcies           1.754916\n",
       "tax_liens                      0.098195\n",
       "dtype: float64"
      ]
     },
     "execution_count": 147,
     "metadata": {},
     "output_type": "execute_result"
    }
   ],
   "source": [
    "null_count_percentage[null_count_percentage > 0]"
   ]
  },
  {
   "cell_type": "code",
   "execution_count": 163,
   "metadata": {},
   "outputs": [
    {
     "data": {
      "text/plain": [
       "RangeIndex(start=0, stop=39717, step=1)"
      ]
     },
     "execution_count": 163,
     "metadata": {},
     "output_type": "execute_result"
    }
   ],
   "source": [
    "\n",
    "loan_data.emp_title.apply(lambda x: print())"
   ]
  },
  {
   "cell_type": "code",
   "execution_count": null,
   "metadata": {},
   "outputs": [],
   "source": []
  }
 ],
 "metadata": {
  "kernelspec": {
   "display_name": "Python 3",
   "language": "python",
   "name": "python3"
  },
  "language_info": {
   "codemirror_mode": {
    "name": "ipython",
    "version": 3
   },
   "file_extension": ".py",
   "mimetype": "text/x-python",
   "name": "python",
   "nbconvert_exporter": "python",
   "pygments_lexer": "ipython3",
   "version": "3.8.2"
  }
 },
 "nbformat": 4,
 "nbformat_minor": 4
}
